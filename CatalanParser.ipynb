{
  "nbformat": 4,
  "nbformat_minor": 0,
  "metadata": {
    "kernelspec": {
      "display_name": "Python 3",
      "language": "python",
      "name": "python3"
    },
    "language_info": {
      "codemirror_mode": {
        "name": "ipython",
        "version": 3
      },
      "file_extension": ".py",
      "mimetype": "text/x-python",
      "name": "python",
      "nbconvert_exporter": "python",
      "pygments_lexer": "ipython3",
      "version": "3.8.5"
    },
    "colab": {
      "name": "CatalanParser.ipynb",
      "provenance": [],
      "collapsed_sections": [],
      "machine_shape": "hm"
    },
    "accelerator": "GPU"
  },
  "cells": [
    {
      "cell_type": "code",
      "metadata": {
        "id": "WKHiLElMOo7E"
      },
      "source": [
        "import os\n",
        "import copy\n",
        "from sklearn import svm\n",
        "import numpy as np"
      ],
      "execution_count": null,
      "outputs": []
    },
    {
      "cell_type": "code",
      "metadata": {
        "id": "19s1szTzOdaD",
        "colab": {
          "base_uri": "https://localhost:8080/"
        },
        "outputId": "8c5f3a9c-ca98-4f30-b5ba-944777da0277"
      },
      "source": [
        "#mount\n",
        "from google.colab import drive \n",
        "drive.mount('/content/drive')"
      ],
      "execution_count": null,
      "outputs": [
        {
          "output_type": "stream",
          "text": [
            "Mounted at /content/drive\n"
          ],
          "name": "stdout"
        }
      ]
    },
    {
      "cell_type": "code",
      "metadata": {
        "id": "b1StPkkrOfyl",
        "colab": {
          "base_uri": "https://localhost:8080/"
        },
        "outputId": "2e87fdde-9e4a-4418-bf5c-56d7e35c7328"
      },
      "source": [
        "#move to current working directory\n",
        "work_dir = '/content/drive/My Drive/Colab Notebooks/NLP/UD/'\n",
        "os.chdir(work_dir)\n",
        "%ls"
      ],
      "execution_count": null,
      "outputs": [
        {
          "output_type": "stream",
          "text": [
            "ca_ancora-ud-dev.conllu    CatalanParser.ipynb      test.conllu\n",
            "ca_ancora-ud-test.conllu   CatalanParser_old.ipynb  \u001b[0m\u001b[01;34mudpipe\u001b[0m/\n",
            "ca_ancora-ud-train.conllu  ParserTraining.ipynb\n"
          ],
          "name": "stdout"
        }
      ]
    },
    {
      "cell_type": "code",
      "metadata": {
        "id": "G6g8lIFdOT4D"
      },
      "source": [
        "class Token:\n",
        "    \n",
        "    labels = ('index','token','lemma','upos','xpos','morph','head','deprel','enh','other')\n",
        "    \n",
        "    def __init__(self, line=None):\n",
        "        if line==None:\n",
        "            line=\"0\\tROOT\"+\"\\t_\"*8\n",
        "        self._data = {k: v for (k, v) in zip(Token.labels,line.split('\\t'))}\n",
        "        #print('here',self._data)\n",
        "        \n",
        "       \n",
        "    def __getitem__(self, arg):\n",
        "        if arg not in Token.labels:\n",
        "            raise ValueError('unknown token key: '+arg)\n",
        "        else:\n",
        "            return self._data[arg]\n",
        "        \n",
        "    def __str__(self):\n",
        "        return '('+self['index']+','+self['token']+')'\n",
        "    \n",
        "    __repr__ = __str__"
      ],
      "execution_count": null,
      "outputs": []
    },
    {
      "cell_type": "code",
      "metadata": {
        "id": "bfmHRb3mOT4I"
      },
      "source": [
        "\n",
        "class Dependency:\n",
        "    \n",
        "    def __init__(self, head, dep):\n",
        "        self._head = head\n",
        "        self._dep = dep\n",
        "        \n",
        "    def head_index(self):\n",
        "      return self._head['index']\n",
        "        \n",
        "    def __str__(self):\n",
        "        return str(self._head)+'→'+str(self._dep)\n",
        "    \n",
        "    __repr__ = __str__"
      ],
      "execution_count": null,
      "outputs": []
    },
    {
      "cell_type": "code",
      "metadata": {
        "id": "HuRYMQPaOT4L"
      },
      "source": [
        "training_features = dict()        #dictionary to store training feature values.\n",
        "class Configuration:\n",
        "    \n",
        "    def __init__(self, tokens):\n",
        "        self._depcounts = dict()\n",
        "        for t in tokens:\n",
        "          if t['head'] != '_':\n",
        "            self._depcounts[t['head']] = self._depcounts.get(t['head'],0) + 1\n",
        "\n",
        "        self._tokens = tokens\n",
        "        self._stack = [Token()]\n",
        "        self._deps = []\n",
        "\n",
        "        #Initialize the heads with the number of tokens\n",
        "        self.heads =[None] * (len(tokens)+1)\n",
        "        \n",
        "    def leftarc(self):\n",
        "        dep = self._stack.pop(-2)\n",
        "        self._deps.append(Dependency(self._stack[-1],dep))\n",
        "        self.heads[int(dep['index'])]= self._stack[-1]['index']       \n",
        "        \n",
        "    def shift(self):\n",
        "        if len(self._tokens)==0:\n",
        "            raise IndexError('Trying to shift from configuration:'+str(self))\n",
        "        self._stack.append(self._tokens.pop(0))\n",
        "        \n",
        "    def rightarc(self):\n",
        "        dep = self._stack.pop(-1)\n",
        "        self._deps.append(Dependency(self._stack[-1],dep))\n",
        "        self.heads[int(dep['index'])]= self._stack[-1]['index']   #Assign the predicted heads \n",
        "        \n",
        "    def _dependents_found(self, headindex):\n",
        "        return sum(1 for d in self._deps if d.head_index()==headindex)\n",
        "        \n",
        "    def done_p(self):\n",
        "        return len(self._tokens)==0 and len(self._stack)==1\n",
        "\n",
        "    #feature extraction code. Features have been taken from Jurafsky martin\n",
        "    def extract_features(self):\n",
        "\n",
        "      fv = {}\n",
        "\n",
        "      s1w,s1t,s2w,s2t,b0w,b0t,b1w,b1t,s1wt,s2wt,b0wt,b1wt= (\"NULL\",\"NULL\",\"NULL\",\"NULL\",\"NULL\",\"NULL\",\"NULL\",\"NULL\",\"NULL\",\"NULL\",\"NULL\",\"NULL\",)\n",
        "\n",
        "      if len(self._stack)>0:\n",
        "        s1w = self._stack[-1]['token']\n",
        "        s1t = self._stack[-1]['upos']\n",
        "\n",
        "      if len(self._stack)>1:\n",
        "        s2w = self._stack[-2]['token']\n",
        "        s2t = self._stack[-2]['upos']\n",
        "\n",
        "      if len(self._tokens)>0:\n",
        "        b0w = self._tokens[0]['token']\n",
        "        b0t = self._tokens[0]['upos']\n",
        "\n",
        "      if len(self._tokens)>1:\n",
        "        b1w = self._tokens[1]['token']\n",
        "        b1t = self._tokens[1]['upos']\n",
        "\n",
        "      s1wt = s1w+s1t\n",
        "      s2wt = s2w+s2t\n",
        "      b0wt = b0w+b0t\n",
        "      b1wt = b1w+b1t\n",
        "      \n",
        "      fv[\"s2w=\" + s2w] = 1\n",
        "      fv[\"s1w=\" + s1w] = 1\n",
        "      fv[\"s2wt=\" + s2wt] = 1\n",
        "      fv[\"s1wt=\" + s1wt] = 1\n",
        "      fv[\"b0w=\" + b0w] = 1\n",
        "      fv[\"b1w=\" + b1w] = 1\n",
        "      fv[\"s2t=\" + s2t] = 1\n",
        "      fv[\"s1t=\" + s1t] = 1\n",
        "      fv[\"b0wt=\" + b0wt] = 1\n",
        "      \n",
        "      fv[\"b0t=\" + b0t] = 1\n",
        "      fv[\"b1wt=\" + b1wt] = 1\n",
        "      \n",
        "      fv[\"b1t=\" + b1t] = 1\n",
        "\n",
        "      return fv \n",
        "\n",
        "    #get the actual head values  \n",
        "    def get_gold_conf(self,sentence):\n",
        "      heads = []\n",
        "      for t in range(len(sentence)):\n",
        "          heads.append(sentence[t]['head'])\n",
        "      return heads\n",
        "\n",
        "    #check if tree is projective.  \n",
        "    def check_projective(self):\n",
        "      while not self.done_p:\n",
        "        if len(self._stack)>2 and self._stack[-2]['head'] == self._stack[-1]['index']:\n",
        "          self._stack.pop(-2)\n",
        "        elif len(self._stack)>1 and self._stack[-1]['head'] == self._stack[-2]['index'] and self._dependents_found(self._stack[-1]['index']) == self._depcounts.get(self._stack[-1]['index'],0):\n",
        "          self._stack.pop(-1)\n",
        "        elif len(self._tokens)>0:\n",
        "          if len(self._tokens)==0:\n",
        "            pass\n",
        "          self._stack.append(self._tokens.pop(0))\n",
        "        else:\n",
        "          return False\n",
        "      return True\n",
        "\n",
        "    def training_oracle(self):\n",
        "        \n",
        "        if len(self._stack)>2 and self._stack[-2]['head'] == self._stack[-1]['index']:\n",
        "            answer = 'LeftArc'\n",
        "            self.leftarc()\n",
        "        elif len(self._stack)>1 and self._stack[-1]['head'] == self._stack[-2]['index'] and self._dependents_found(self._stack[-1]['index']) == self._depcounts.get(self._stack[-1]['index'],0):\n",
        "            answer = 'RightArc'\n",
        "            self.rightarc()\n",
        "        elif len(self._tokens)>0:\n",
        "            answer = 'Shift'\n",
        "            self.shift()\n",
        "        else:\n",
        "            # Fail; usually because of non-projectivity, or sometimes bug in treebank!\n",
        "            answer = 'Fail'\n",
        "            pass\n",
        "\n",
        "        if answer != 'Fail':\n",
        "          features = self.extract_features()\n",
        "        else:\n",
        "          features=[]\n",
        "          \n",
        "        return answer , features\n",
        "        \n",
        "    def __str__(self):\n",
        "        return 'stack='+str(self._stack)+',tokens='+str(self._tokens)+',deps='+str(self._deps)\n",
        "        "
      ],
      "execution_count": null,
      "outputs": []
    },
    {
      "cell_type": "code",
      "metadata": {
        "id": "An54jnS4OT4N"
      },
      "source": [
        "from collections import defaultdict\n",
        "label_idx = {'Shift':0,'LeftArc':1,'RightArc':2}\n",
        "idx_label = {0:'Shift',1:'LeftArc',2:'RightArc'}\n",
        "class ArcParser():\n",
        "  def __init__(self):\n",
        "    self.feature_dict = defaultdict(int)\n",
        "    self.feature_dict['UNK'] = 0\n",
        "    self.dataset = []\n",
        "    self.labels = []\n",
        "\n",
        "  #creating the feature dictionary for each stage\n",
        "  def create_feature_dict(self,fv):\n",
        "    for feat in fv:\n",
        "      if feat not in self.feature_dict:\n",
        "        self.feature_dict[feat] = len(self.feature_dict)\n",
        "  #Feature to id mapping\n",
        "  def featuretoidx(self,fv):\n",
        "      feature2id = [self.feature_dict[feat] for feat in fv]\n",
        "      return feature2id\n",
        "\n",
        "  # sentence s is a list of dictionaries, each representing one token\n",
        "  # return True iff oracle-training parse succeeded\n",
        "  def process_sentence(self,s,isTrain,verbose=False):\n",
        "      config = Configuration(s)\n",
        "      label = ''\n",
        "      feature_vec = []\n",
        "      transitions = []\n",
        "\n",
        "      #check if tree is projective before processing\n",
        "      config_copy = copy.deepcopy(config)\n",
        "      config_check = config_copy.check_projective()\n",
        "      #print('config_check:',config_check)\n",
        "      if config_check:\n",
        "        gold_conf = config.get_gold_conf(s)\n",
        "      else:\n",
        "        return [],[]\n",
        "\n",
        "      if verbose:\n",
        "          print('\\n\\nStarting new parse:')\n",
        "          print(config)\n",
        "      while label != 'Fail' and not config.done_p():          \n",
        "          label, fv = config.training_oracle()\n",
        "          if label != 'Fail' and fv != {}:\n",
        "            #If training data then we add to feature dictionary\n",
        "            if isTrain:\n",
        "              self.create_feature_dict(fv)\n",
        "              self.dataset.append(self.featuretoidx(fv))\n",
        "            #If not the training set, we get the value for the fature\n",
        "            else:\n",
        "              self.dataset.append([training_features.get(feat,training_features['UNK']) for feat in fv])\n",
        "            \n",
        "            self.labels.append(label_idx[label])\n",
        "          else:\n",
        "            feature_vec = []\n",
        "            transitions = []\n",
        "            gold_conf = []\n",
        "          if verbose:\n",
        "            #print('feat',feature_vec,transitions)\n",
        "            print('Applied '+label+' operation...')\n",
        "            print(config)\n",
        "      #This gives us the predicted heads after parsing\n",
        "      pred_conf = config.heads\n",
        "      pred_conf.pop(0)\n",
        "\n",
        "      #print(gold_conf,pred_conf)\n",
        "      return label != 'Fail',feature_vec,gold_conf"
      ],
      "execution_count": null,
      "outputs": []
    },
    {
      "cell_type": "code",
      "metadata": {
        "id": "o8LDVOBfcDgD",
        "colab": {
          "base_uri": "https://localhost:8080/"
        },
        "outputId": "2215386b-d5cd-4ce7-a894-be384fb2837f"
      },
      "source": [
        "len(training_features)\n"
      ],
      "execution_count": null,
      "outputs": [
        {
          "output_type": "execute_result",
          "data": {
            "text/plain": [
              "235423"
            ]
          },
          "metadata": {
            "tags": []
          },
          "execution_count": 40
        }
      ]
    },
    {
      "cell_type": "code",
      "metadata": {
        "id": "2STLfiCXOT4Q"
      },
      "source": [
        "\n",
        "def parse_data(corpus,isTrain=False):\n",
        "  verbose = False\n",
        "  total = 0\n",
        "  ok = 0\n",
        "\n",
        "  y_train = []\n",
        "  with open(corpus,'r') as f:\n",
        "      parser = ArcParser()\n",
        "      sentence = []\n",
        "      for line in f:\n",
        "        line = line.rstrip('\\n')\n",
        "        if line == '':\n",
        "            total += 1\n",
        "            valid, x,y = parser.process_sentence(sentence,isTrain,verbose)\n",
        "            if valid:\n",
        "              ok+=1\n",
        "            sentence = []\n",
        "        elif line[0] == '#' or re.match('^[0-9]+-',line):\n",
        "            # skip comments and multiword tokens\n",
        "            pass\n",
        "        else:\n",
        "          #print(line)\n",
        "          sentence.append(Token(line))\n",
        "  print(ok) \n",
        "  if isTrain:\n",
        "    training_features = parser.feature_dict\n",
        "    return parser.dataset,parser.labels,training_features\n",
        "  else:\n",
        "    return parser.dataset,parser.labels,_\n",
        "\n",
        "\n",
        "#print('Successfully parsed',ok,'of',total,'sentences')"
      ],
      "execution_count": null,
      "outputs": []
    },
    {
      "cell_type": "code",
      "metadata": {
        "id": "QNcEjfRkRLAB",
        "colab": {
          "base_uri": "https://localhost:8080/"
        },
        "outputId": "c7fbaab7-19dc-4eb2-cae8-6c20fb6d6419"
      },
      "source": [
        "import re\n",
        "train_file = 'ca_ancora-ud-train.conllu'\n",
        "dev_file = 'ca_ancora-ud-dev.conllu'\n",
        "test_file = 'ca_ancora-ud-test.conllu'\n",
        "x_train ,y_train,training_features = parse_data(train_file,True)\n",
        "X_val , y_val,_ = parse_data(dev_file)\n"
      ],
      "execution_count": null,
      "outputs": [
        {
          "output_type": "stream",
          "text": [
            "12542\n",
            "1641\n"
          ],
          "name": "stdout"
        }
      ]
    },
    {
      "cell_type": "code",
      "metadata": {
        "id": "MvHZ-ydJOT4T",
        "colab": {
          "base_uri": "https://localhost:8080/"
        },
        "outputId": "93a0acdd-6003-4154-b0cb-988230e9d285"
      },
      "source": [
        "#Training with SVM model. Need to check why its crashing even for subset of data\n",
        "model = svm.SVC(\n",
        "        kernel=\"poly\",\n",
        "        degree=2,\n",
        "        verbose=True,\n",
        "        C=1.0,\n",
        "        probability=True,\n",
        "        )\n",
        "\n",
        "model.fit(x_train[:1000], y_train[:1000])"
      ],
      "execution_count": null,
      "outputs": [
        {
          "output_type": "stream",
          "text": [
            "[LibSVM]"
          ],
          "name": "stdout"
        }
      ]
    },
    {
      "cell_type": "code",
      "metadata": {
        "id": "c9VEB0I-KnJg",
        "colab": {
          "base_uri": "https://localhost:8080/"
        },
        "outputId": "865041fa-464f-426a-ae50-8b53a8853053"
      },
      "source": [
        "#Training model using Keras\n",
        "from tensorflow.keras.layers import Dense, Embedding, Activation, Dropout,TimeDistributed,LSTM, Input,Convolution1D\n",
        "from tensorflow.keras import Sequential,Model\n",
        "\n",
        "vocab_length = len(training_features)\n",
        "model = Sequential() # a sequential model is a stack of layers - we will add them one by one\n",
        "\n",
        "\n",
        "model.add(Embedding(input_dim = vocab_length,\n",
        "                    output_dim=12, # output of this layer is the embedding of the input word\n",
        "                    input_length=12)) # specifies how many indexes we are looking up\n",
        "\n",
        "model.add(Convolution1D(filters=32, kernel_size=3, padding='same', activation='relu'))\n",
        "model.add(LSTM(100))\n",
        "model.add(Dense(8, activation='relu'))\n",
        "model.add(Dense(len(label_idx), activation='softmax'))\n",
        "\n",
        "model.compile(optimizer=\"Adam\",\n",
        "              loss=\"categorical_crossentropy\",\n",
        "              metrics=[\"accuracy\"])\n",
        "\n",
        "\n",
        "\n",
        "model.summary()\n"
      ],
      "execution_count": null,
      "outputs": [
        {
          "output_type": "stream",
          "text": [
            "Model: \"sequential\"\n",
            "_________________________________________________________________\n",
            "Layer (type)                 Output Shape              Param #   \n",
            "=================================================================\n",
            "embedding (Embedding)        (None, 12, 12)            2825076   \n",
            "_________________________________________________________________\n",
            "conv1d (Conv1D)              (None, 12, 32)            1184      \n",
            "_________________________________________________________________\n",
            "lstm (LSTM)                  (None, 100)               53200     \n",
            "_________________________________________________________________\n",
            "dense (Dense)                (None, 8)                 808       \n",
            "_________________________________________________________________\n",
            "dense_1 (Dense)              (None, 3)                 27        \n",
            "=================================================================\n",
            "Total params: 2,880,295\n",
            "Trainable params: 2,880,295\n",
            "Non-trainable params: 0\n",
            "_________________________________________________________________\n"
          ],
          "name": "stdout"
        }
      ]
    },
    {
      "cell_type": "code",
      "metadata": {
        "id": "_QO2PHHgNhFE"
      },
      "source": [
        "from tensorflow.keras.utils import to_categorical\n",
        "y_cat = to_categorical(y_train)\n",
        "y_val_cat =  to_categorical(y_val)"
      ],
      "execution_count": null,
      "outputs": []
    },
    {
      "cell_type": "code",
      "metadata": {
        "id": "XE_NbWOLNo2U",
        "colab": {
          "base_uri": "https://localhost:8080/"
        },
        "outputId": "6cc5da3b-d7dc-4902-ea49-f098c9b29fda"
      },
      "source": [
        "model.fit(np.array(x_train),y_cat, batch_size=512, epochs=10, verbose=1)"
      ],
      "execution_count": null,
      "outputs": [
        {
          "output_type": "stream",
          "text": [
            "Epoch 1/10\n",
            "1624/1624 [==============================] - 30s 18ms/step - loss: 0.3540 - accuracy: 0.8550\n",
            "Epoch 2/10\n",
            "1624/1624 [==============================] - 30s 18ms/step - loss: 0.2638 - accuracy: 0.8936\n",
            "Epoch 3/10\n",
            "1624/1624 [==============================] - 30s 18ms/step - loss: 0.2079 - accuracy: 0.9173\n",
            "Epoch 4/10\n",
            "1624/1624 [==============================] - 30s 18ms/step - loss: 0.1706 - accuracy: 0.9325\n",
            "Epoch 5/10\n",
            "1624/1624 [==============================] - 30s 18ms/step - loss: 0.1446 - accuracy: 0.9431\n",
            "Epoch 6/10\n",
            "1624/1624 [==============================] - 30s 19ms/step - loss: 0.1250 - accuracy: 0.9509\n",
            "Epoch 7/10\n",
            "1624/1624 [==============================] - 30s 19ms/step - loss: 0.1102 - accuracy: 0.9569\n",
            "Epoch 8/10\n",
            "1624/1624 [==============================] - 30s 19ms/step - loss: 0.1000 - accuracy: 0.9606\n",
            "Epoch 9/10\n",
            "1624/1624 [==============================] - 30s 18ms/step - loss: 0.0907 - accuracy: 0.9644\n",
            "Epoch 10/10\n",
            "1624/1624 [==============================] - 30s 19ms/step - loss: 0.0832 - accuracy: 0.9671\n"
          ],
          "name": "stdout"
        },
        {
          "output_type": "execute_result",
          "data": {
            "text/plain": [
              "<tensorflow.python.keras.callbacks.History at 0x7f56b4cf5f98>"
            ]
          },
          "metadata": {
            "tags": []
          },
          "execution_count": 33
        }
      ]
    },
    {
      "cell_type": "code",
      "metadata": {
        "id": "Wkp9fIGP2uYp",
        "colab": {
          "base_uri": "https://localhost:8080/"
        },
        "outputId": "0a7b8765-12b1-4eca-a6f6-74488097d12c"
      },
      "source": [
        "model.evaluate(np.array(X_val), y_val_cat, batch_size=32, verbose=1)"
      ],
      "execution_count": null,
      "outputs": [
        {
          "output_type": "stream",
          "text": [
            "3516/3516 [==============================] - 10s 3ms/step - loss: 0.9276 - accuracy: 0.8092\n"
          ],
          "name": "stdout"
        },
        {
          "output_type": "execute_result",
          "data": {
            "text/plain": [
              "[0.9276489615440369, 0.8091919422149658]"
            ]
          },
          "metadata": {
            "tags": []
          },
          "execution_count": 34
        }
      ]
    },
    {
      "cell_type": "code",
      "metadata": {
        "id": "9s9YLhSBTyEk"
      },
      "source": [
        "pred = model.predict(np.array(X_val))\n",
        "p = np.argmax(pred,axis=-1)"
      ],
      "execution_count": null,
      "outputs": []
    },
    {
      "cell_type": "code",
      "metadata": {
        "id": "DoKbfG87EGOP"
      },
      "source": [
        "# returns number of labels that count toward LAS, so discard PUNCT and multiword tokens\n",
        "def real_label_count(sentence):\n",
        "  answer = 0\n",
        "  for tok in sentence:\n",
        "    if re.search(r'-',tok[0]):\n",
        "      continue\n",
        "    if tok[3] != 'PUNCT':\n",
        "      answer += 1\n",
        "  return answer"
      ],
      "execution_count": null,
      "outputs": []
    },
    {
      "cell_type": "code",
      "metadata": {
        "id": "gqV6yS1aEGOS"
      },
      "source": [
        "def evaluate_parse(sentence, parse):\n",
        "  answer = 0\n",
        "  for i in range(len(sentence)):\n",
        "    if sentence[i][6]==parse[i][6]:\n",
        "      answer += 1\n",
        "  return answer"
      ],
      "execution_count": null,
      "outputs": []
    },
    {
      "cell_type": "code",
      "metadata": {
        "id": "Gy2WlG69xcek"
      },
      "source": [
        "# a sentence is a list of tokens\n",
        "# a token is a list of the first six features in CoNNL-U format\n",
        "# this function should append the head and the dependency label as the 7th and 8th features\n",
        "# Baseline algorithm labels everything as a determiner with the following token as the head (~13% accuracy!)\n",
        "def parse_sentence(sentence):\n",
        "  s= []\n",
        "  configs =[]\n",
        "  label = ''\n",
        "  for tok in sentence:\n",
        "    if re.search(r'-',tok[0]):\n",
        "      tok.append('_')\n",
        "    else:   \n",
        "      tok.append('_')\n",
        "      tok.append('_')\n",
        "      tok.append('_')\n",
        "      tok.append('_')\n",
        "      #print(tok)\n",
        "      s.append(Token(\"\\t\".join(tok)))         #Since we are only taking first 6 columns we add a '_' for the rest \n",
        "      #print(s)\n",
        " \n",
        "  config = Configuration(s)\n",
        "  config_copy = copy.deepcopy(config)\n",
        "  config_check = config_copy.check_projective()\n",
        "  if not config_check:\n",
        "      return []\n",
        "  config.feature_dict = training_features\n",
        "\n",
        "  #Normally the first two operations are always shift\n",
        "  config.shift()\n",
        "  config.shift()\n",
        "\n",
        "  #using the feature dictionary from training\n",
        "  parser = ArcParser()\n",
        "  parser.feature_dict = training_features\n",
        "  \n",
        "  while label != 'Fail' and not config.done_p():\n",
        "      #converting features to indexes\n",
        "      features = config.extract_features()    \n",
        "      fv = parser.featuretoidx(features) \n",
        "      pred = model.predict([fv])  \n",
        "      pred_label = np.argmax(pred)\n",
        "      #This parsing is taken from Dr.Scannell's code and the parts with the known heads is removed.\n",
        "      if idx_label[pred_label] == 'LeftArc':\n",
        "        if len(config._stack)>2:\n",
        "          config.leftarc()\n",
        "          label = 'LeftArc'\n",
        "        elif len(config._tokens)>0:       #if stack is too small, shift is always a good choice\n",
        "          config.shift()\n",
        "          label = 'Shift'\n",
        "      elif idx_label[pred_label] == 'RightArc':\n",
        "        if len(config._stack)>1:\n",
        "         config.rightarc()\n",
        "         label = 'RightArc'\n",
        "        else:                          #if buffer is too small, shift is always a good choice\n",
        "          if len(config._tokens)>0:      \n",
        "            config.shift()\n",
        "           label = 'Shift'\n",
        "      elif idx_label[pred_label] == 'Shift':\n",
        "        if len(config._tokens)>0:\n",
        "          config.shift()\n",
        "          label = 'Shift'\n",
        "      else:\n",
        "          # Fail; usually because of non-projectivity, or sometimes bug in treebank!\n",
        "          label = 'Fail'\n",
        "          pass\n",
        "\n",
        "      print('Applied '+ label +' operation...')\n",
        "      print(config)\n",
        "  pred_conf = config.heads\n",
        "  pred_conf.pop(0)\n",
        "\n",
        "  return sentence,pred_conf\n",
        "    "
      ],
      "execution_count": null,
      "outputs": []
    },
    {
      "cell_type": "code",
      "metadata": {
        "id": "f3JEkNcwXNIf"
      },
      "source": [
        "x_test , y_test,_ = parse_data(test_file)"
      ],
      "execution_count": null,
      "outputs": []
    },
    {
      "cell_type": "code",
      "metadata": {
        "id": "FDjp33k8ckVm"
      },
      "source": [
        "#y_test_cat =  to_categorical(y_test)\n",
        "pred_test = model.predict(np.array(x_test))\n",
        "test_labels = np.argmax(pred_test,axis=-1)"
      ],
      "execution_count": null,
      "outputs": []
    },
    {
      "cell_type": "code",
      "metadata": {
        "id": "A_pt42puwbjg"
      },
      "source": [
        "def evaluate():\n",
        "  #testfile = open('ca_ancora-ud-test.conllu','r')\n",
        "  testfile = open(dev_file,'r')\n",
        "  sentence = []\n",
        "  total = 0\n",
        "  correct = 0\n",
        "  for line in testfile:\n",
        "    line = line.rstrip('\\n')\n",
        "    #print(line[:6])\n",
        "    if line=='':\n",
        "     \n",
        "      parsed = parse_sentence(tok[:6] for tok in sentence)\n",
        "      total += 1\n",
        "      correct += evaluate_parse(sentence, parsed)\n",
        "      total += real_label_count(sentence)\n",
        "      sentence = []\n",
        "    elif line[0]=='#':\n",
        "      pass\n",
        "    else:\n",
        "      sentence.append(line.split('\\t'))\n",
        "\n",
        "    if total > 1:\n",
        "      break\n",
        "  return correct/total"
      ],
      "execution_count": null,
      "outputs": []
    },
    {
      "cell_type": "code",
      "metadata": {
        "id": "Pyvfu79Vxtyn"
      },
      "source": [
        "evaluate()"
      ],
      "execution_count": null,
      "outputs": []
    }
  ]
}